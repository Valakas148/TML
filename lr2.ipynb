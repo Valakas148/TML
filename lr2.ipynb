{
 "cells": [
  {
   "cell_type": "code",
   "execution_count": null,
   "id": "initial_id",
   "metadata": {
    "collapsed": true,
    "is_executing": true
   },
   "outputs": [],
   "source": [
    "import pandas as pd\n",
    "from sklearn.model_selection import train_test_split\n",
    "import re\n",
    "\n",
    "from sklearn.feature_extraction.text import TfidfVectorizer\n",
    "from sklearn.naive_bayes import MultinomialNB\n",
    "from sklearn.pipeline import Pipeline\n",
    "from sklearn.metrics import classification_report\n",
    "from sklearn.model_selection import GridSearchCV\n",
    "from sklearn.model_selection import RandomizedSearchCV\n",
    "\n",
    "# import fasttext.util\n",
    "import numpy as np\n",
    "from sklearn.base import BaseEstimator, TransformerMixin\n",
    "from sklearn.pipeline import Pipeline\n",
    "\n",
    "from gensim.models import FastText\n",
    "from sklearn.base import BaseEstimator, TransformerMixin\n",
    "from sklearn.linear_model import LogisticRegression\n",
    "import nltk\n",
    "from nltk.corpus import stopwords\n",
    "from sklearn.metrics.pairwise import cosine_similarity\n",
    "from nltk.stem import WordNetLemmatizer\n",
    "import random\n",
    "from sklearn.metrics import accuracy_score\n",
    "from gensim.models import KeyedVectors"
   ]
  },
  {
   "cell_type": "markdown",
   "source": [
    "pip install gensim\n",
    "\n",
    "pip install nltk"
   ],
   "metadata": {
    "collapsed": false
   },
   "id": "d98af44c8b15390c"
  },
  {
   "cell_type": "code",
   "outputs": [],
   "source": [],
   "metadata": {
    "collapsed": false,
    "ExecuteTime": {
     "end_time": "2024-10-31T20:08:24.869585Z",
     "start_time": "2024-10-31T20:08:24.867767Z"
    }
   },
   "id": "821f7150207517ea",
   "execution_count": 133
  },
  {
   "cell_type": "code",
   "outputs": [],
   "source": [
    "file_path = 'Twitter_Data.csv'\n",
    "df = pd.read_csv(file_path)"
   ],
   "metadata": {
    "collapsed": false,
    "ExecuteTime": {
     "end_time": "2024-10-31T20:08:25.282028Z",
     "start_time": "2024-10-31T20:08:24.909819Z"
    }
   },
   "id": "ae177a26f589ff58",
   "execution_count": 134
  },
  {
   "cell_type": "code",
   "outputs": [
    {
     "name": "stderr",
     "output_type": "stream",
     "text": [
      "[nltk_data] Downloading package stopwords to\n",
      "[nltk_data]     C:\\Users\\Oleg_PC\\AppData\\Roaming\\nltk_data...\n",
      "[nltk_data]   Package stopwords is already up-to-date!\n",
      "[nltk_data] Downloading package wordnet to\n",
      "[nltk_data]     C:\\Users\\Oleg_PC\\AppData\\Roaming\\nltk_data...\n",
      "[nltk_data]   Package wordnet is already up-to-date!\n"
     ]
    }
   ],
   "source": [
    "nltk.download('stopwords')\n",
    "stop_words = set(stopwords.words('english'))\n",
    "nltk.download('wordnet')\n",
    "lemmatizer = WordNetLemmatizer()"
   ],
   "metadata": {
    "collapsed": false,
    "ExecuteTime": {
     "end_time": "2024-10-31T20:08:25.288145Z",
     "start_time": "2024-10-31T20:08:25.283038Z"
    }
   },
   "id": "fc619a0ad76519bc",
   "execution_count": 135
  },
  {
   "cell_type": "code",
   "outputs": [
    {
     "data": {
      "text/plain": "                                          clean_text  category\n0  when modi promised “minimum government maximum...      -1.0\n1  talk all the nonsense and continue all the dra...       0.0\n2  what did just say vote for modi  welcome bjp t...       1.0\n3  asking his supporters prefix chowkidar their n...       1.0\n4  answer who among these the most powerful world...       1.0",
      "text/html": "<div>\n<style scoped>\n    .dataframe tbody tr th:only-of-type {\n        vertical-align: middle;\n    }\n\n    .dataframe tbody tr th {\n        vertical-align: top;\n    }\n\n    .dataframe thead th {\n        text-align: right;\n    }\n</style>\n<table border=\"1\" class=\"dataframe\">\n  <thead>\n    <tr style=\"text-align: right;\">\n      <th></th>\n      <th>clean_text</th>\n      <th>category</th>\n    </tr>\n  </thead>\n  <tbody>\n    <tr>\n      <th>0</th>\n      <td>when modi promised “minimum government maximum...</td>\n      <td>-1.0</td>\n    </tr>\n    <tr>\n      <th>1</th>\n      <td>talk all the nonsense and continue all the dra...</td>\n      <td>0.0</td>\n    </tr>\n    <tr>\n      <th>2</th>\n      <td>what did just say vote for modi  welcome bjp t...</td>\n      <td>1.0</td>\n    </tr>\n    <tr>\n      <th>3</th>\n      <td>asking his supporters prefix chowkidar their n...</td>\n      <td>1.0</td>\n    </tr>\n    <tr>\n      <th>4</th>\n      <td>answer who among these the most powerful world...</td>\n      <td>1.0</td>\n    </tr>\n  </tbody>\n</table>\n</div>"
     },
     "execution_count": 136,
     "metadata": {},
     "output_type": "execute_result"
    }
   ],
   "source": [
    "df.head()"
   ],
   "metadata": {
    "collapsed": false,
    "ExecuteTime": {
     "end_time": "2024-10-31T20:08:25.295019Z",
     "start_time": "2024-10-31T20:08:25.289154Z"
    }
   },
   "id": "9c24ce4a6fd7feba",
   "execution_count": 136
  },
  {
   "cell_type": "code",
   "outputs": [
    {
     "data": {
      "text/plain": "array([-1.,  0.,  1., nan])"
     },
     "execution_count": 137,
     "metadata": {},
     "output_type": "execute_result"
    }
   ],
   "source": [
    "df['category'].unique()"
   ],
   "metadata": {
    "collapsed": false,
    "ExecuteTime": {
     "end_time": "2024-10-31T20:08:25.307255Z",
     "start_time": "2024-10-31T20:08:25.296029Z"
    }
   },
   "id": "c8119da209a0aad0",
   "execution_count": 137
  },
  {
   "cell_type": "code",
   "outputs": [],
   "source": [
    "df = df.dropna(subset=['category'])"
   ],
   "metadata": {
    "collapsed": false,
    "ExecuteTime": {
     "end_time": "2024-10-31T20:08:25.321905Z",
     "start_time": "2024-10-31T20:08:25.307765Z"
    }
   },
   "id": "30c74e2af92bd99e",
   "execution_count": 138
  },
  {
   "cell_type": "code",
   "outputs": [
    {
     "data": {
      "text/plain": "array([-1.,  0.,  1.])"
     },
     "execution_count": 139,
     "metadata": {},
     "output_type": "execute_result"
    }
   ],
   "source": [
    "df['category'].unique()"
   ],
   "metadata": {
    "collapsed": false,
    "ExecuteTime": {
     "end_time": "2024-10-31T20:08:25.328725Z",
     "start_time": "2024-10-31T20:08:25.322915Z"
    }
   },
   "id": "a1d87f9cae1096ca",
   "execution_count": 139
  },
  {
   "cell_type": "code",
   "outputs": [],
   "source": [
    "def preprocess_text(text):\n",
    "    if pd.isnull(text):\n",
    "        return \"\"\n",
    "    text = text.lower()\n",
    "    text = re.sub(r'[^a-z\\s]', '', text)\n",
    "    text = ' '.join([lemmatizer.lemmatize(word) for word in text.split() if word not in stop_words])\n",
    "    return text"
   ],
   "metadata": {
    "collapsed": false,
    "ExecuteTime": {
     "end_time": "2024-10-31T20:08:25.336371Z",
     "start_time": "2024-10-31T20:08:25.329733Z"
    }
   },
   "id": "bfd1ecf40cd42a21",
   "execution_count": 140
  },
  {
   "cell_type": "code",
   "outputs": [],
   "source": [
    "df['processed_text'] = df['clean_text'].apply(preprocess_text)"
   ],
   "metadata": {
    "collapsed": false,
    "ExecuteTime": {
     "end_time": "2024-10-31T20:08:32.031081Z",
     "start_time": "2024-10-31T20:08:25.337372Z"
    }
   },
   "id": "1f71b1a62f413cbe",
   "execution_count": 141
  },
  {
   "cell_type": "code",
   "outputs": [],
   "source": [
    "X = df['processed_text']\n",
    "y = df['category']"
   ],
   "metadata": {
    "collapsed": false,
    "ExecuteTime": {
     "end_time": "2024-10-31T20:08:32.039177Z",
     "start_time": "2024-10-31T20:08:32.031081Z"
    }
   },
   "id": "a633f15637b15849",
   "execution_count": 142
  },
  {
   "cell_type": "code",
   "outputs": [],
   "source": [
    "X_train, X_test, y_train, y_test = train_test_split(X, y, test_size=0.2, random_state=42)\n"
   ],
   "metadata": {
    "collapsed": false,
    "ExecuteTime": {
     "end_time": "2024-10-31T20:08:32.067986Z",
     "start_time": "2024-10-31T20:08:32.041189Z"
    }
   },
   "id": "e8b055c34bd0141",
   "execution_count": 143
  },
  {
   "cell_type": "code",
   "outputs": [
    {
     "data": {
      "text/plain": "((130378,), (32595,), (130378,), (32595,))"
     },
     "execution_count": 144,
     "metadata": {},
     "output_type": "execute_result"
    }
   ],
   "source": [
    "(X_train.shape, X_test.shape, y_train.shape, y_test.shape)"
   ],
   "metadata": {
    "collapsed": false,
    "ExecuteTime": {
     "end_time": "2024-10-31T20:08:32.072731Z",
     "start_time": "2024-10-31T20:08:32.067986Z"
    }
   },
   "id": "9a8ef257f12342d",
   "execution_count": 144
  },
  {
   "cell_type": "code",
   "outputs": [],
   "source": [
    "# pipeline = Pipeline([\n",
    "#     ('tfidf', TfidfVectorizer()),\n",
    "#     ('nb', MultinomialNB())\n",
    "# ])\n",
    "\n",
    "\n",
    "pipeline_tfidf = Pipeline([\n",
    "    ('tfidf', TfidfVectorizer(max_df=0.9, min_df=5, ngram_range=(1, 2))),\n",
    "    ('nb', MultinomialNB())\n",
    "])"
   ],
   "metadata": {
    "collapsed": false,
    "ExecuteTime": {
     "end_time": "2024-10-31T20:08:32.077101Z",
     "start_time": "2024-10-31T20:08:32.073757Z"
    }
   },
   "id": "eb15e7aec08cb76",
   "execution_count": 145
  },
  {
   "cell_type": "code",
   "outputs": [],
   "source": [
    "pipeline_tfidf.fit(X_train, y_train)\n",
    "y_pred = pipeline_tfidf.predict(X_test)\n",
    "report = classification_report(y_test, y_pred, zero_division=1)\n"
   ],
   "metadata": {
    "collapsed": false,
    "ExecuteTime": {
     "end_time": "2024-10-31T20:08:35.836794Z",
     "start_time": "2024-10-31T20:08:32.077613Z"
    }
   },
   "id": "50c78b56ef2ed7b7",
   "execution_count": 146
  },
  {
   "cell_type": "code",
   "outputs": [
    {
     "name": "stdout",
     "output_type": "stream",
     "text": [
      "              precision    recall  f1-score   support\n",
      "\n",
      "        -1.0       0.85      0.39      0.53      7230\n",
      "         0.0       0.81      0.61      0.70     10961\n",
      "         1.0       0.63      0.92      0.75     14404\n",
      "\n",
      "    accuracy                           0.70     32595\n",
      "   macro avg       0.76      0.64      0.66     32595\n",
      "weighted avg       0.74      0.70      0.68     32595\n"
     ]
    }
   ],
   "source": [
    "print(report)"
   ],
   "metadata": {
    "collapsed": false,
    "ExecuteTime": {
     "end_time": "2024-10-31T20:08:35.840730Z",
     "start_time": "2024-10-31T20:08:35.837305Z"
    }
   },
   "id": "a8d2ac1fc31b05f9",
   "execution_count": 147
  },
  {
   "cell_type": "code",
   "outputs": [],
   "source": [
    "param_grid = {\n",
    "    'nb__alpha': [0.1, 0.5, 1.0, 1.5, 2.0]  \n",
    "}\n",
    "\n",
    "\n",
    "grid_search = GridSearchCV(pipeline_tfidf, param_grid, cv=5, scoring='accuracy')\n",
    "grid_search.fit(X_train, y_train)\n",
    "\n",
    "best_params = grid_search.best_params_\n",
    "best_score = grid_search.best_score_\n"
   ],
   "metadata": {
    "collapsed": false,
    "ExecuteTime": {
     "end_time": "2024-10-31T20:09:58.505256Z",
     "start_time": "2024-10-31T20:08:35.841736Z"
    }
   },
   "id": "361411b2a8d70bd1",
   "execution_count": 148
  },
  {
   "cell_type": "code",
   "outputs": [
    {
     "name": "stdout",
     "output_type": "stream",
     "text": [
      "{'nb__alpha': 0.1}\n",
      "0.7193774912980231\n"
     ]
    }
   ],
   "source": [
    "print(best_params)\n",
    "print(best_score)"
   ],
   "metadata": {
    "collapsed": false,
    "ExecuteTime": {
     "end_time": "2024-10-31T20:09:58.509267Z",
     "start_time": "2024-10-31T20:09:58.506274Z"
    }
   },
   "id": "c19e22c7d077a66c",
   "execution_count": 149
  },
  {
   "cell_type": "code",
   "outputs": [
    {
     "name": "stdout",
     "output_type": "stream",
     "text": [
      "              precision    recall  f1-score   support\n",
      "\n",
      "        -1.0       0.72      0.54      0.62      7230\n",
      "         0.0       0.81      0.66      0.73     10961\n",
      "         1.0       0.68      0.86      0.76     14404\n",
      "\n",
      "    accuracy                           0.72     32595\n",
      "   macro avg       0.74      0.69      0.70     32595\n",
      "weighted avg       0.73      0.72      0.72     32595\n"
     ]
    }
   ],
   "source": [
    "best_pipeline = grid_search.best_estimator_\n",
    "y_pred = best_pipeline.predict(X_test)\n",
    "report = classification_report(y_test, y_pred, zero_division=1)\n",
    "\n",
    "print(report)\n"
   ],
   "metadata": {
    "collapsed": false,
    "ExecuteTime": {
     "end_time": "2024-10-31T20:09:59.127972Z",
     "start_time": "2024-10-31T20:09:58.510277Z"
    }
   },
   "id": "9c97ff8583225a8e",
   "execution_count": 150
  },
  {
   "cell_type": "code",
   "outputs": [],
   "source": [],
   "metadata": {
    "collapsed": false,
    "ExecuteTime": {
     "end_time": "2024-10-31T20:09:59.130613Z",
     "start_time": "2024-10-31T20:09:59.129027Z"
    }
   },
   "id": "ffa1719a288dfb62",
   "execution_count": 150
  },
  {
   "cell_type": "markdown",
   "source": [],
   "metadata": {
    "collapsed": false
   },
   "id": "7764ca21b65bcc88"
  },
  {
   "cell_type": "code",
   "outputs": [],
   "source": [
    "# Тренуємо FastText модель на текстах\n",
    "sentences = [text.split() for text in X_train]  # Розбиваємо тексти на слова\n",
    "ft_model = FastText(sentences=sentences, vector_size=100, window=5, min_count=1, workers=4, sg=1, epochs=10)\n"
   ],
   "metadata": {
    "collapsed": false,
    "ExecuteTime": {
     "end_time": "2024-10-31T20:10:48.423714Z",
     "start_time": "2024-10-31T20:09:59.130613Z"
    }
   },
   "id": "3dc1054d9f7e3008",
   "execution_count": 151
  },
  {
   "cell_type": "code",
   "outputs": [],
   "source": [
    "class FastTextVectorizer(BaseEstimator, TransformerMixin):\n",
    "    def __init__(self, model):\n",
    "        self.model = model\n",
    "\n",
    "    def transform(self, X, **transform_params):\n",
    "        return np.array([\n",
    "            np.mean(\n",
    "                [self.model.wv[word] for word in text.split() if word in self.model.wv], \n",
    "                axis=0\n",
    "            ) if any(word in self.model.wv for word in text.split()) else np.zeros(self.model.vector_size)\n",
    "            for text in X\n",
    "        ])\n",
    "\n",
    "    def fit(self, X, y=None, **fit_params):\n",
    "        return self\n"
   ],
   "metadata": {
    "collapsed": false,
    "ExecuteTime": {
     "end_time": "2024-10-31T20:10:48.429154Z",
     "start_time": "2024-10-31T20:10:48.423714Z"
    }
   },
   "id": "51b42c2dfd16bf04",
   "execution_count": 152
  },
  {
   "cell_type": "code",
   "outputs": [],
   "source": [
    "pipeline_ft = Pipeline([\n",
    "    ('ft_vectorizer', FastTextVectorizer(ft_model)),\n",
    "    ('lr', LogisticRegression(class_weight='balanced', max_iter=1000))\n",
    "])"
   ],
   "metadata": {
    "collapsed": false,
    "ExecuteTime": {
     "end_time": "2024-10-31T20:10:48.433483Z",
     "start_time": "2024-10-31T20:10:48.430161Z"
    }
   },
   "id": "86064f4104fa033",
   "execution_count": 153
  },
  {
   "cell_type": "code",
   "outputs": [
    {
     "name": "stdout",
     "output_type": "stream",
     "text": [
      "              precision    recall  f1-score   support\n",
      "\n",
      "        -1.0       0.41      0.60      0.49      7230\n",
      "         0.0       0.59      0.59      0.59     10961\n",
      "         1.0       0.67      0.51      0.58     14404\n",
      "\n",
      "    accuracy                           0.56     32595\n",
      "   macro avg       0.56      0.57      0.55     32595\n",
      "weighted avg       0.59      0.56      0.56     32595\n"
     ]
    }
   ],
   "source": [
    "pipeline_ft.fit(X_train, y_train)\n",
    "\n",
    "# Оцінка моделі\n",
    "y_pred = pipeline_ft.predict(X_test)\n",
    "report_ft = classification_report(y_test, y_pred, zero_division=1)\n",
    "\n",
    "print(report_ft)"
   ],
   "metadata": {
    "collapsed": false,
    "ExecuteTime": {
     "end_time": "2024-10-31T20:10:56.790054Z",
     "start_time": "2024-10-31T20:10:48.434492Z"
    }
   },
   "id": "396ef70cf948cc92",
   "execution_count": 154
  },
  {
   "cell_type": "code",
   "outputs": [],
   "source": [],
   "metadata": {
    "collapsed": false,
    "ExecuteTime": {
     "end_time": "2024-10-31T20:10:56.792537Z",
     "start_time": "2024-10-31T20:10:56.790054Z"
    }
   },
   "id": "f0a8075dd16468e7",
   "execution_count": 154
  },
  {
   "cell_type": "code",
   "outputs": [],
   "source": [
    "param_dist = {\n",
    "    'lr__C': [0.1, 1, 10],               # Значення регуляризації\n",
    "    'lr__solver': ['liblinear', 'saga'],  # Оптимізатори, які підтримують `class_weight`\n",
    "    'lr__class_weight': ['balanced', None]\n",
    "}"
   ],
   "metadata": {
    "collapsed": false,
    "ExecuteTime": {
     "end_time": "2024-10-31T20:10:56.795927Z",
     "start_time": "2024-10-31T20:10:56.792537Z"
    }
   },
   "id": "484cf2cd17e6df9b",
   "execution_count": 155
  },
  {
   "cell_type": "code",
   "outputs": [],
   "source": [
    "random_search = RandomizedSearchCV(\n",
    "    pipeline_ft, param_distributions=param_dist, \n",
    "    n_iter=10, cv=5, scoring='accuracy', random_state=42\n",
    ")"
   ],
   "metadata": {
    "collapsed": false,
    "ExecuteTime": {
     "end_time": "2024-10-31T20:10:56.800404Z",
     "start_time": "2024-10-31T20:10:56.795927Z"
    }
   },
   "id": "ff2047dbad7b0453",
   "execution_count": 156
  },
  {
   "cell_type": "code",
   "outputs": [
    {
     "data": {
      "text/plain": "RandomizedSearchCV(cv=5,\n                   estimator=Pipeline(steps=[('ft_vectorizer',\n                                              FastTextVectorizer(model=<gensim.models.fasttext.FastText object at 0x00000154577D8510>)),\n                                             ('lr',\n                                              LogisticRegression(class_weight='balanced',\n                                                                 max_iter=1000))]),\n                   param_distributions={'lr__C': [0.1, 1, 10],\n                                        'lr__class_weight': ['balanced', None],\n                                        'lr__solver': ['liblinear', 'saga']},\n                   random_state=42, scoring='accuracy')",
      "text/html": "<style>#sk-container-id-3 {\n  /* Definition of color scheme common for light and dark mode */\n  --sklearn-color-text: black;\n  --sklearn-color-line: gray;\n  /* Definition of color scheme for unfitted estimators */\n  --sklearn-color-unfitted-level-0: #fff5e6;\n  --sklearn-color-unfitted-level-1: #f6e4d2;\n  --sklearn-color-unfitted-level-2: #ffe0b3;\n  --sklearn-color-unfitted-level-3: chocolate;\n  /* Definition of color scheme for fitted estimators */\n  --sklearn-color-fitted-level-0: #f0f8ff;\n  --sklearn-color-fitted-level-1: #d4ebff;\n  --sklearn-color-fitted-level-2: #b3dbfd;\n  --sklearn-color-fitted-level-3: cornflowerblue;\n\n  /* Specific color for light theme */\n  --sklearn-color-text-on-default-background: var(--sg-text-color, var(--theme-code-foreground, var(--jp-content-font-color1, black)));\n  --sklearn-color-background: var(--sg-background-color, var(--theme-background, var(--jp-layout-color0, white)));\n  --sklearn-color-border-box: var(--sg-text-color, var(--theme-code-foreground, var(--jp-content-font-color1, black)));\n  --sklearn-color-icon: #696969;\n\n  @media (prefers-color-scheme: dark) {\n    /* Redefinition of color scheme for dark theme */\n    --sklearn-color-text-on-default-background: var(--sg-text-color, var(--theme-code-foreground, var(--jp-content-font-color1, white)));\n    --sklearn-color-background: var(--sg-background-color, var(--theme-background, var(--jp-layout-color0, #111)));\n    --sklearn-color-border-box: var(--sg-text-color, var(--theme-code-foreground, var(--jp-content-font-color1, white)));\n    --sklearn-color-icon: #878787;\n  }\n}\n\n#sk-container-id-3 {\n  color: var(--sklearn-color-text);\n}\n\n#sk-container-id-3 pre {\n  padding: 0;\n}\n\n#sk-container-id-3 input.sk-hidden--visually {\n  border: 0;\n  clip: rect(1px 1px 1px 1px);\n  clip: rect(1px, 1px, 1px, 1px);\n  height: 1px;\n  margin: -1px;\n  overflow: hidden;\n  padding: 0;\n  position: absolute;\n  width: 1px;\n}\n\n#sk-container-id-3 div.sk-dashed-wrapped {\n  border: 1px dashed var(--sklearn-color-line);\n  margin: 0 0.4em 0.5em 0.4em;\n  box-sizing: border-box;\n  padding-bottom: 0.4em;\n  background-color: var(--sklearn-color-background);\n}\n\n#sk-container-id-3 div.sk-container {\n  /* jupyter's `normalize.less` sets `[hidden] { display: none; }`\n     but bootstrap.min.css set `[hidden] { display: none !important; }`\n     so we also need the `!important` here to be able to override the\n     default hidden behavior on the sphinx rendered scikit-learn.org.\n     See: https://github.com/scikit-learn/scikit-learn/issues/21755 */\n  display: inline-block !important;\n  position: relative;\n}\n\n#sk-container-id-3 div.sk-text-repr-fallback {\n  display: none;\n}\n\ndiv.sk-parallel-item,\ndiv.sk-serial,\ndiv.sk-item {\n  /* draw centered vertical line to link estimators */\n  background-image: linear-gradient(var(--sklearn-color-text-on-default-background), var(--sklearn-color-text-on-default-background));\n  background-size: 2px 100%;\n  background-repeat: no-repeat;\n  background-position: center center;\n}\n\n/* Parallel-specific style estimator block */\n\n#sk-container-id-3 div.sk-parallel-item::after {\n  content: \"\";\n  width: 100%;\n  border-bottom: 2px solid var(--sklearn-color-text-on-default-background);\n  flex-grow: 1;\n}\n\n#sk-container-id-3 div.sk-parallel {\n  display: flex;\n  align-items: stretch;\n  justify-content: center;\n  background-color: var(--sklearn-color-background);\n  position: relative;\n}\n\n#sk-container-id-3 div.sk-parallel-item {\n  display: flex;\n  flex-direction: column;\n}\n\n#sk-container-id-3 div.sk-parallel-item:first-child::after {\n  align-self: flex-end;\n  width: 50%;\n}\n\n#sk-container-id-3 div.sk-parallel-item:last-child::after {\n  align-self: flex-start;\n  width: 50%;\n}\n\n#sk-container-id-3 div.sk-parallel-item:only-child::after {\n  width: 0;\n}\n\n/* Serial-specific style estimator block */\n\n#sk-container-id-3 div.sk-serial {\n  display: flex;\n  flex-direction: column;\n  align-items: center;\n  background-color: var(--sklearn-color-background);\n  padding-right: 1em;\n  padding-left: 1em;\n}\n\n\n/* Toggleable style: style used for estimator/Pipeline/ColumnTransformer box that is\nclickable and can be expanded/collapsed.\n- Pipeline and ColumnTransformer use this feature and define the default style\n- Estimators will overwrite some part of the style using the `sk-estimator` class\n*/\n\n/* Pipeline and ColumnTransformer style (default) */\n\n#sk-container-id-3 div.sk-toggleable {\n  /* Default theme specific background. It is overwritten whether we have a\n  specific estimator or a Pipeline/ColumnTransformer */\n  background-color: var(--sklearn-color-background);\n}\n\n/* Toggleable label */\n#sk-container-id-3 label.sk-toggleable__label {\n  cursor: pointer;\n  display: block;\n  width: 100%;\n  margin-bottom: 0;\n  padding: 0.5em;\n  box-sizing: border-box;\n  text-align: center;\n}\n\n#sk-container-id-3 label.sk-toggleable__label-arrow:before {\n  /* Arrow on the left of the label */\n  content: \"▸\";\n  float: left;\n  margin-right: 0.25em;\n  color: var(--sklearn-color-icon);\n}\n\n#sk-container-id-3 label.sk-toggleable__label-arrow:hover:before {\n  color: var(--sklearn-color-text);\n}\n\n/* Toggleable content - dropdown */\n\n#sk-container-id-3 div.sk-toggleable__content {\n  max-height: 0;\n  max-width: 0;\n  overflow: hidden;\n  text-align: left;\n  /* unfitted */\n  background-color: var(--sklearn-color-unfitted-level-0);\n}\n\n#sk-container-id-3 div.sk-toggleable__content.fitted {\n  /* fitted */\n  background-color: var(--sklearn-color-fitted-level-0);\n}\n\n#sk-container-id-3 div.sk-toggleable__content pre {\n  margin: 0.2em;\n  border-radius: 0.25em;\n  color: var(--sklearn-color-text);\n  /* unfitted */\n  background-color: var(--sklearn-color-unfitted-level-0);\n}\n\n#sk-container-id-3 div.sk-toggleable__content.fitted pre {\n  /* unfitted */\n  background-color: var(--sklearn-color-fitted-level-0);\n}\n\n#sk-container-id-3 input.sk-toggleable__control:checked~div.sk-toggleable__content {\n  /* Expand drop-down */\n  max-height: 200px;\n  max-width: 100%;\n  overflow: auto;\n}\n\n#sk-container-id-3 input.sk-toggleable__control:checked~label.sk-toggleable__label-arrow:before {\n  content: \"▾\";\n}\n\n/* Pipeline/ColumnTransformer-specific style */\n\n#sk-container-id-3 div.sk-label input.sk-toggleable__control:checked~label.sk-toggleable__label {\n  color: var(--sklearn-color-text);\n  background-color: var(--sklearn-color-unfitted-level-2);\n}\n\n#sk-container-id-3 div.sk-label.fitted input.sk-toggleable__control:checked~label.sk-toggleable__label {\n  background-color: var(--sklearn-color-fitted-level-2);\n}\n\n/* Estimator-specific style */\n\n/* Colorize estimator box */\n#sk-container-id-3 div.sk-estimator input.sk-toggleable__control:checked~label.sk-toggleable__label {\n  /* unfitted */\n  background-color: var(--sklearn-color-unfitted-level-2);\n}\n\n#sk-container-id-3 div.sk-estimator.fitted input.sk-toggleable__control:checked~label.sk-toggleable__label {\n  /* fitted */\n  background-color: var(--sklearn-color-fitted-level-2);\n}\n\n#sk-container-id-3 div.sk-label label.sk-toggleable__label,\n#sk-container-id-3 div.sk-label label {\n  /* The background is the default theme color */\n  color: var(--sklearn-color-text-on-default-background);\n}\n\n/* On hover, darken the color of the background */\n#sk-container-id-3 div.sk-label:hover label.sk-toggleable__label {\n  color: var(--sklearn-color-text);\n  background-color: var(--sklearn-color-unfitted-level-2);\n}\n\n/* Label box, darken color on hover, fitted */\n#sk-container-id-3 div.sk-label.fitted:hover label.sk-toggleable__label.fitted {\n  color: var(--sklearn-color-text);\n  background-color: var(--sklearn-color-fitted-level-2);\n}\n\n/* Estimator label */\n\n#sk-container-id-3 div.sk-label label {\n  font-family: monospace;\n  font-weight: bold;\n  display: inline-block;\n  line-height: 1.2em;\n}\n\n#sk-container-id-3 div.sk-label-container {\n  text-align: center;\n}\n\n/* Estimator-specific */\n#sk-container-id-3 div.sk-estimator {\n  font-family: monospace;\n  border: 1px dotted var(--sklearn-color-border-box);\n  border-radius: 0.25em;\n  box-sizing: border-box;\n  margin-bottom: 0.5em;\n  /* unfitted */\n  background-color: var(--sklearn-color-unfitted-level-0);\n}\n\n#sk-container-id-3 div.sk-estimator.fitted {\n  /* fitted */\n  background-color: var(--sklearn-color-fitted-level-0);\n}\n\n/* on hover */\n#sk-container-id-3 div.sk-estimator:hover {\n  /* unfitted */\n  background-color: var(--sklearn-color-unfitted-level-2);\n}\n\n#sk-container-id-3 div.sk-estimator.fitted:hover {\n  /* fitted */\n  background-color: var(--sklearn-color-fitted-level-2);\n}\n\n/* Specification for estimator info (e.g. \"i\" and \"?\") */\n\n/* Common style for \"i\" and \"?\" */\n\n.sk-estimator-doc-link,\na:link.sk-estimator-doc-link,\na:visited.sk-estimator-doc-link {\n  float: right;\n  font-size: smaller;\n  line-height: 1em;\n  font-family: monospace;\n  background-color: var(--sklearn-color-background);\n  border-radius: 1em;\n  height: 1em;\n  width: 1em;\n  text-decoration: none !important;\n  margin-left: 1ex;\n  /* unfitted */\n  border: var(--sklearn-color-unfitted-level-1) 1pt solid;\n  color: var(--sklearn-color-unfitted-level-1);\n}\n\n.sk-estimator-doc-link.fitted,\na:link.sk-estimator-doc-link.fitted,\na:visited.sk-estimator-doc-link.fitted {\n  /* fitted */\n  border: var(--sklearn-color-fitted-level-1) 1pt solid;\n  color: var(--sklearn-color-fitted-level-1);\n}\n\n/* On hover */\ndiv.sk-estimator:hover .sk-estimator-doc-link:hover,\n.sk-estimator-doc-link:hover,\ndiv.sk-label-container:hover .sk-estimator-doc-link:hover,\n.sk-estimator-doc-link:hover {\n  /* unfitted */\n  background-color: var(--sklearn-color-unfitted-level-3);\n  color: var(--sklearn-color-background);\n  text-decoration: none;\n}\n\ndiv.sk-estimator.fitted:hover .sk-estimator-doc-link.fitted:hover,\n.sk-estimator-doc-link.fitted:hover,\ndiv.sk-label-container:hover .sk-estimator-doc-link.fitted:hover,\n.sk-estimator-doc-link.fitted:hover {\n  /* fitted */\n  background-color: var(--sklearn-color-fitted-level-3);\n  color: var(--sklearn-color-background);\n  text-decoration: none;\n}\n\n/* Span, style for the box shown on hovering the info icon */\n.sk-estimator-doc-link span {\n  display: none;\n  z-index: 9999;\n  position: relative;\n  font-weight: normal;\n  right: .2ex;\n  padding: .5ex;\n  margin: .5ex;\n  width: min-content;\n  min-width: 20ex;\n  max-width: 50ex;\n  color: var(--sklearn-color-text);\n  box-shadow: 2pt 2pt 4pt #999;\n  /* unfitted */\n  background: var(--sklearn-color-unfitted-level-0);\n  border: .5pt solid var(--sklearn-color-unfitted-level-3);\n}\n\n.sk-estimator-doc-link.fitted span {\n  /* fitted */\n  background: var(--sklearn-color-fitted-level-0);\n  border: var(--sklearn-color-fitted-level-3);\n}\n\n.sk-estimator-doc-link:hover span {\n  display: block;\n}\n\n/* \"?\"-specific style due to the `<a>` HTML tag */\n\n#sk-container-id-3 a.estimator_doc_link {\n  float: right;\n  font-size: 1rem;\n  line-height: 1em;\n  font-family: monospace;\n  background-color: var(--sklearn-color-background);\n  border-radius: 1rem;\n  height: 1rem;\n  width: 1rem;\n  text-decoration: none;\n  /* unfitted */\n  color: var(--sklearn-color-unfitted-level-1);\n  border: var(--sklearn-color-unfitted-level-1) 1pt solid;\n}\n\n#sk-container-id-3 a.estimator_doc_link.fitted {\n  /* fitted */\n  border: var(--sklearn-color-fitted-level-1) 1pt solid;\n  color: var(--sklearn-color-fitted-level-1);\n}\n\n/* On hover */\n#sk-container-id-3 a.estimator_doc_link:hover {\n  /* unfitted */\n  background-color: var(--sklearn-color-unfitted-level-3);\n  color: var(--sklearn-color-background);\n  text-decoration: none;\n}\n\n#sk-container-id-3 a.estimator_doc_link.fitted:hover {\n  /* fitted */\n  background-color: var(--sklearn-color-fitted-level-3);\n}\n</style><div id=\"sk-container-id-3\" class=\"sk-top-container\"><div class=\"sk-text-repr-fallback\"><pre>RandomizedSearchCV(cv=5,\n                   estimator=Pipeline(steps=[(&#x27;ft_vectorizer&#x27;,\n                                              FastTextVectorizer(model=&lt;gensim.models.fasttext.FastText object at 0x00000154577D8510&gt;)),\n                                             (&#x27;lr&#x27;,\n                                              LogisticRegression(class_weight=&#x27;balanced&#x27;,\n                                                                 max_iter=1000))]),\n                   param_distributions={&#x27;lr__C&#x27;: [0.1, 1, 10],\n                                        &#x27;lr__class_weight&#x27;: [&#x27;balanced&#x27;, None],\n                                        &#x27;lr__solver&#x27;: [&#x27;liblinear&#x27;, &#x27;saga&#x27;]},\n                   random_state=42, scoring=&#x27;accuracy&#x27;)</pre><b>In a Jupyter environment, please rerun this cell to show the HTML representation or trust the notebook. <br />On GitHub, the HTML representation is unable to render, please try loading this page with nbviewer.org.</b></div><div class=\"sk-container\" hidden><div class=\"sk-item sk-dashed-wrapped\"><div class=\"sk-label-container\"><div class=\"sk-label fitted sk-toggleable\"><input class=\"sk-toggleable__control sk-hidden--visually\" id=\"sk-estimator-id-9\" type=\"checkbox\" ><label for=\"sk-estimator-id-9\" class=\"sk-toggleable__label fitted sk-toggleable__label-arrow fitted\">&nbsp;&nbsp;RandomizedSearchCV<a class=\"sk-estimator-doc-link fitted\" rel=\"noreferrer\" target=\"_blank\" href=\"https://scikit-learn.org/1.5/modules/generated/sklearn.model_selection.RandomizedSearchCV.html\">?<span>Documentation for RandomizedSearchCV</span></a><span class=\"sk-estimator-doc-link fitted\">i<span>Fitted</span></span></label><div class=\"sk-toggleable__content fitted\"><pre>RandomizedSearchCV(cv=5,\n                   estimator=Pipeline(steps=[(&#x27;ft_vectorizer&#x27;,\n                                              FastTextVectorizer(model=&lt;gensim.models.fasttext.FastText object at 0x00000154577D8510&gt;)),\n                                             (&#x27;lr&#x27;,\n                                              LogisticRegression(class_weight=&#x27;balanced&#x27;,\n                                                                 max_iter=1000))]),\n                   param_distributions={&#x27;lr__C&#x27;: [0.1, 1, 10],\n                                        &#x27;lr__class_weight&#x27;: [&#x27;balanced&#x27;, None],\n                                        &#x27;lr__solver&#x27;: [&#x27;liblinear&#x27;, &#x27;saga&#x27;]},\n                   random_state=42, scoring=&#x27;accuracy&#x27;)</pre></div> </div></div><div class=\"sk-parallel\"><div class=\"sk-parallel-item\"><div class=\"sk-item\"><div class=\"sk-label-container\"><div class=\"sk-label fitted sk-toggleable\"><input class=\"sk-toggleable__control sk-hidden--visually\" id=\"sk-estimator-id-10\" type=\"checkbox\" ><label for=\"sk-estimator-id-10\" class=\"sk-toggleable__label fitted sk-toggleable__label-arrow fitted\">best_estimator_: Pipeline</label><div class=\"sk-toggleable__content fitted\"><pre>Pipeline(steps=[(&#x27;ft_vectorizer&#x27;,\n                 FastTextVectorizer(model=&lt;gensim.models.fasttext.FastText object at 0x0000015408861490&gt;)),\n                (&#x27;lr&#x27;, LogisticRegression(C=1, max_iter=1000, solver=&#x27;saga&#x27;))])</pre></div> </div></div><div class=\"sk-serial\"><div class=\"sk-item\"><div class=\"sk-serial\"><div class=\"sk-item\"><div class=\"sk-estimator fitted sk-toggleable\"><input class=\"sk-toggleable__control sk-hidden--visually\" id=\"sk-estimator-id-11\" type=\"checkbox\" ><label for=\"sk-estimator-id-11\" class=\"sk-toggleable__label fitted sk-toggleable__label-arrow fitted\">FastTextVectorizer</label><div class=\"sk-toggleable__content fitted\"><pre>FastTextVectorizer(model=&lt;gensim.models.fasttext.FastText object at 0x0000015408861490&gt;)</pre></div> </div></div><div class=\"sk-item\"><div class=\"sk-estimator fitted sk-toggleable\"><input class=\"sk-toggleable__control sk-hidden--visually\" id=\"sk-estimator-id-12\" type=\"checkbox\" ><label for=\"sk-estimator-id-12\" class=\"sk-toggleable__label fitted sk-toggleable__label-arrow fitted\">&nbsp;LogisticRegression<a class=\"sk-estimator-doc-link fitted\" rel=\"noreferrer\" target=\"_blank\" href=\"https://scikit-learn.org/1.5/modules/generated/sklearn.linear_model.LogisticRegression.html\">?<span>Documentation for LogisticRegression</span></a></label><div class=\"sk-toggleable__content fitted\"><pre>LogisticRegression(C=1, max_iter=1000, solver=&#x27;saga&#x27;)</pre></div> </div></div></div></div></div></div></div></div></div></div></div>"
     },
     "execution_count": 157,
     "metadata": {},
     "output_type": "execute_result"
    }
   ],
   "source": [
    "random_search.fit(X_train, y_train)"
   ],
   "metadata": {
    "collapsed": false,
    "ExecuteTime": {
     "end_time": "2024-10-31T20:19:35.211172Z",
     "start_time": "2024-10-31T20:10:56.800404Z"
    }
   },
   "id": "dae35b1ec98d08a",
   "execution_count": 157
  },
  {
   "cell_type": "code",
   "outputs": [
    {
     "name": "stdout",
     "output_type": "stream",
     "text": [
      "Best Parameters: {'lr__solver': 'saga', 'lr__class_weight': None, 'lr__C': 1}\n",
      "Best Cross-Validation Accuracy: 0.5872616752535585\n"
     ]
    }
   ],
   "source": [
    "best_params = random_search.best_params_\n",
    "best_score = random_search.best_score_\n",
    "\n",
    "\n",
    "print(\"Best Parameters:\", best_params)\n",
    "print(\"Best Cross-Validation Accuracy:\", best_score)"
   ],
   "metadata": {
    "collapsed": false,
    "ExecuteTime": {
     "end_time": "2024-10-31T20:19:35.215589Z",
     "start_time": "2024-10-31T20:19:35.212175Z"
    }
   },
   "id": "c09ed7d4cd998de7",
   "execution_count": 158
  },
  {
   "cell_type": "code",
   "outputs": [
    {
     "name": "stdout",
     "output_type": "stream",
     "text": [
      "              precision    recall  f1-score   support\n",
      "\n",
      "        -1.0       0.51      0.29      0.37      7230\n",
      "         0.0       0.59      0.58      0.59     10961\n",
      "         1.0       0.59      0.74      0.66     14404\n",
      "\n",
      "    accuracy                           0.58     32595\n",
      "   macro avg       0.57      0.53      0.54     32595\n",
      "weighted avg       0.58      0.58      0.57     32595\n"
     ]
    }
   ],
   "source": [
    "y_pred = random_search.predict(X_test)\n",
    "report = classification_report(y_test, y_pred, zero_division=1)\n",
    "print(report)"
   ],
   "metadata": {
    "collapsed": false,
    "ExecuteTime": {
     "end_time": "2024-10-31T20:19:36.781292Z",
     "start_time": "2024-10-31T20:19:35.220094Z"
    }
   },
   "id": "da46809ffc651189",
   "execution_count": 159
  },
  {
   "cell_type": "code",
   "outputs": [],
   "source": [],
   "metadata": {
    "collapsed": false,
    "ExecuteTime": {
     "end_time": "2024-10-31T20:19:36.783855Z",
     "start_time": "2024-10-31T20:19:36.782297Z"
    }
   },
   "id": "2831ae4e9024b749",
   "execution_count": 159
  },
  {
   "cell_type": "code",
   "outputs": [],
   "source": [],
   "metadata": {
    "collapsed": false,
    "ExecuteTime": {
     "end_time": "2024-10-31T20:19:36.786364Z",
     "start_time": "2024-10-31T20:19:36.783855Z"
    }
   },
   "id": "e46fc4e8e192f79e",
   "execution_count": 159
  },
  {
   "cell_type": "code",
   "outputs": [],
   "source": [
    "import gradio as gr"
   ],
   "metadata": {
    "collapsed": false,
    "ExecuteTime": {
     "end_time": "2024-10-31T20:19:36.789727Z",
     "start_time": "2024-10-31T20:19:36.786870Z"
    }
   },
   "id": "b743f07ca4003d64",
   "execution_count": 160
  },
  {
   "cell_type": "code",
   "outputs": [],
   "source": [
    "def classify_tfidf_naive_bayes(text):\n",
    "    processed_text = preprocess_text(text)  # Препроцесинг\n",
    "    prediction = pipeline_tfidf.predict([processed_text])[0]\n",
    "    return f\"Predicted Category: {prediction}\"\n",
    "\n",
    "# Функція класифікації для FastText + Logistic Regression\n",
    "def classify_fasttext_logreg(text):\n",
    "    processed_text = preprocess_text(text)  # Препроцесинг\n",
    "    prediction = pipeline_ft.predict([processed_text])[0]\n",
    "    return f\"Predicted Category: {prediction}\""
   ],
   "metadata": {
    "collapsed": false,
    "ExecuteTime": {
     "end_time": "2024-10-31T20:19:36.794651Z",
     "start_time": "2024-10-31T20:19:36.789727Z"
    }
   },
   "id": "ace768498f0f4f3f",
   "execution_count": 161
  },
  {
   "cell_type": "code",
   "outputs": [],
   "source": [
    "with gr.Blocks() as demo:\n",
    "    gr.Markdown(\"## Text Classification Demo\")\n",
    "    \n",
    "    with gr.Tab(\"TF-IDF + Naive Bayes\"):\n",
    "        with gr.Row():\n",
    "            input_text_tfidf = gr.Textbox(label=\"Enter text for TF-IDF + Naive Bayes\")\n",
    "            output_label_tfidf = gr.Label()\n",
    "        classify_button_tfidf = gr.Button(\"Classify\")\n",
    "        classify_button_tfidf.click(fn=classify_tfidf_naive_bayes, inputs=input_text_tfidf, outputs=output_label_tfidf)\n",
    "    \n",
    "    with gr.Tab(\"FastText + Logistic Regression\"):\n",
    "        with gr.Row():\n",
    "            input_text_fasttext = gr.Textbox(label=\"Enter text for FastText + Logistic Regression\")\n",
    "            output_label_fasttext = gr.Label()\n",
    "        classify_button_fasttext = gr.Button(\"Classify\")\n",
    "        classify_button_fasttext.click(fn=classify_fasttext_logreg, inputs=input_text_fasttext, outputs=output_label_fasttext)\n"
   ],
   "metadata": {
    "collapsed": false,
    "ExecuteTime": {
     "end_time": "2024-10-31T20:19:37.366867Z",
     "start_time": "2024-10-31T20:19:36.795656Z"
    }
   },
   "id": "56e9655671714efe",
   "execution_count": 162
  },
  {
   "cell_type": "code",
   "outputs": [],
   "source": [],
   "metadata": {
    "collapsed": false,
    "ExecuteTime": {
     "end_time": "2024-10-31T20:19:37.369795Z",
     "start_time": "2024-10-31T20:19:37.367923Z"
    }
   },
   "id": "8ace6160928d9cd8",
   "execution_count": 162
  },
  {
   "cell_type": "markdown",
   "source": [
    "This product is fantastic! It really helped me improve my workflow."
   ],
   "metadata": {
    "collapsed": false
   },
   "id": "a42b778585fe944a"
  },
  {
   "cell_type": "markdown",
   "source": [
    "I am really disappointed with the quality of this service."
   ],
   "metadata": {
    "collapsed": false
   },
   "id": "1c80e30260ac993a"
  },
  {
   "cell_type": "markdown",
   "source": [
    "The meeting was scheduled to discuss the progress of the project."
   ],
   "metadata": {
    "collapsed": false
   },
   "id": "f6897364b65b5cdb"
  },
  {
   "cell_type": "code",
   "outputs": [
    {
     "name": "stdout",
     "output_type": "stream",
     "text": [
      "* Running on local URL:  http://127.0.0.1:7863\n",
      "\n",
      "To create a public link, set `share=True` in `launch()`.\n"
     ]
    },
    {
     "data": {
      "text/plain": "<IPython.core.display.HTML object>",
      "text/html": "<div><iframe src=\"http://127.0.0.1:7863/\" width=\"100%\" height=\"500\" allow=\"autoplay; camera; microphone; clipboard-read; clipboard-write;\" frameborder=\"0\" allowfullscreen></iframe></div>"
     },
     "metadata": {},
     "output_type": "display_data"
    },
    {
     "data": {
      "text/plain": ""
     },
     "execution_count": 163,
     "metadata": {},
     "output_type": "execute_result"
    }
   ],
   "source": [
    "demo.launch()"
   ],
   "metadata": {
    "collapsed": false,
    "ExecuteTime": {
     "end_time": "2024-10-31T20:19:37.639848Z",
     "start_time": "2024-10-31T20:19:37.369795Z"
    }
   },
   "id": "9c5dbe7df5b397a2",
   "execution_count": 163
  },
  {
   "cell_type": "markdown",
   "source": [],
   "metadata": {
    "collapsed": false
   },
   "id": "5ed7b01dce7a4a55"
  },
  {
   "cell_type": "markdown",
   "source": [],
   "metadata": {
    "collapsed": false
   },
   "id": "9e2b6abd0c8eebf"
  },
  {
   "cell_type": "markdown",
   "source": [
    "QA"
   ],
   "metadata": {
    "collapsed": false
   },
   "id": "16da71e247dba496"
  },
  {
   "cell_type": "code",
   "outputs": [],
   "source": [
    "file_path = 'DataScienceBasics_QandA - Sheet1.csv'\n",
    "df2 = pd.read_csv(file_path)"
   ],
   "metadata": {
    "collapsed": false,
    "ExecuteTime": {
     "end_time": "2024-10-31T20:19:37.647767Z",
     "start_time": "2024-10-31T20:19:37.639848Z"
    }
   },
   "id": "667caad244cbffec",
   "execution_count": 164
  },
  {
   "cell_type": "code",
   "outputs": [
    {
     "data": {
      "text/plain": "   Id                                           Question  \\\n0   1                              What is data science?   \n1   2  What are the key steps in the data science pro...   \n2   3  What is the difference between supervised and ...   \n3   4                Explain the bias-variance tradeoff.   \n4   5                       What is feature engineering?   \n\n                                              Answer  \n0  Data science is an interdisciplinary field tha...  \n1  The key steps typically include problem defini...  \n2  Supervised learning involves training a model ...  \n3  The bias-variance tradeoff is the balance betw...  \n4  Feature engineering is the process of selectin...  ",
      "text/html": "<div>\n<style scoped>\n    .dataframe tbody tr th:only-of-type {\n        vertical-align: middle;\n    }\n\n    .dataframe tbody tr th {\n        vertical-align: top;\n    }\n\n    .dataframe thead th {\n        text-align: right;\n    }\n</style>\n<table border=\"1\" class=\"dataframe\">\n  <thead>\n    <tr style=\"text-align: right;\">\n      <th></th>\n      <th>Id</th>\n      <th>Question</th>\n      <th>Answer</th>\n    </tr>\n  </thead>\n  <tbody>\n    <tr>\n      <th>0</th>\n      <td>1</td>\n      <td>What is data science?</td>\n      <td>Data science is an interdisciplinary field tha...</td>\n    </tr>\n    <tr>\n      <th>1</th>\n      <td>2</td>\n      <td>What are the key steps in the data science pro...</td>\n      <td>The key steps typically include problem defini...</td>\n    </tr>\n    <tr>\n      <th>2</th>\n      <td>3</td>\n      <td>What is the difference between supervised and ...</td>\n      <td>Supervised learning involves training a model ...</td>\n    </tr>\n    <tr>\n      <th>3</th>\n      <td>4</td>\n      <td>Explain the bias-variance tradeoff.</td>\n      <td>The bias-variance tradeoff is the balance betw...</td>\n    </tr>\n    <tr>\n      <th>4</th>\n      <td>5</td>\n      <td>What is feature engineering?</td>\n      <td>Feature engineering is the process of selectin...</td>\n    </tr>\n  </tbody>\n</table>\n</div>"
     },
     "execution_count": 165,
     "metadata": {},
     "output_type": "execute_result"
    }
   ],
   "source": [
    "df2.head()"
   ],
   "metadata": {
    "collapsed": false,
    "ExecuteTime": {
     "end_time": "2024-10-31T20:19:37.654624Z",
     "start_time": "2024-10-31T20:19:37.648771Z"
    }
   },
   "id": "7a882cd66cde80cc",
   "execution_count": 165
  },
  {
   "cell_type": "code",
   "outputs": [],
   "source": [
    "lemmatizer = WordNetLemmatizer()"
   ],
   "metadata": {
    "collapsed": false,
    "ExecuteTime": {
     "end_time": "2024-10-31T20:19:37.658592Z",
     "start_time": "2024-10-31T20:19:37.654624Z"
    }
   },
   "id": "a85a74f22c03133d",
   "execution_count": 166
  },
  {
   "cell_type": "code",
   "outputs": [],
   "source": [
    "def preprocess_text(text):\n",
    "    # Приведення до нижнього регістру\n",
    "    text = text.lower()\n",
    "    # Видалення спеціальних символів і чисел\n",
    "    text = re.sub(r'[^a-z\\s]', '', text)\n",
    "    # Видалення стоп-слів і лематизація\n",
    "    text = ' '.join([lemmatizer.lemmatize(word) for word in text.split() if word not in stop_words])\n",
    "    return text"
   ],
   "metadata": {
    "collapsed": false,
    "ExecuteTime": {
     "end_time": "2024-10-31T20:19:37.663184Z",
     "start_time": "2024-10-31T20:19:37.658592Z"
    }
   },
   "id": "87a314764676bb42",
   "execution_count": 167
  },
  {
   "cell_type": "code",
   "outputs": [],
   "source": [
    "df2['processed_question'] = df2['Question'].apply(preprocess_text)\n",
    "df2['processed_answer'] = df2['Answer'].apply(preprocess_text)\n"
   ],
   "metadata": {
    "collapsed": false,
    "ExecuteTime": {
     "end_time": "2024-10-31T20:19:37.691188Z",
     "start_time": "2024-10-31T20:19:37.664206Z"
    }
   },
   "id": "557eb13ae6caff5f",
   "execution_count": 168
  },
  {
   "cell_type": "code",
   "outputs": [],
   "source": [
    "sentences = [q.split() for q in df2['processed_question']] + [a.split() for a in df2['processed_answer']]\n",
    "ft_model = FastText(sentences=sentences, vector_size=100, window=5, min_count=1, workers=4, sg=1, epochs=10)"
   ],
   "metadata": {
    "collapsed": false,
    "ExecuteTime": {
     "end_time": "2024-10-31T20:19:39.370484Z",
     "start_time": "2024-10-31T20:19:37.692402Z"
    }
   },
   "id": "ef319fd141cd6d37",
   "execution_count": 169
  },
  {
   "cell_type": "code",
   "outputs": [],
   "source": [
    "def get_text_vector(text, model):\n",
    "    words = text.split()\n",
    "    word_vectors = [model.wv[word] for word in words if word in model.wv]\n",
    "    return np.mean(word_vectors, axis=0) if word_vectors else np.zeros(model.vector_size)\n"
   ],
   "metadata": {
    "collapsed": false,
    "ExecuteTime": {
     "end_time": "2024-10-31T20:19:39.374716Z",
     "start_time": "2024-10-31T20:19:39.370484Z"
    }
   },
   "id": "bf75b09d8f9cc22a",
   "execution_count": 170
  },
  {
   "cell_type": "code",
   "outputs": [],
   "source": [
    "df2['question_vector'] = df2['processed_question'].apply(lambda x: get_text_vector(x, ft_model))\n",
    "df2['answer_vector'] = df2['processed_answer'].apply(lambda x: get_text_vector(x, ft_model))\n"
   ],
   "metadata": {
    "collapsed": false,
    "ExecuteTime": {
     "end_time": "2024-10-31T20:19:39.392411Z",
     "start_time": "2024-10-31T20:19:39.375723Z"
    }
   },
   "id": "3b023ee2c6d0e7e2",
   "execution_count": 171
  },
  {
   "cell_type": "code",
   "outputs": [],
   "source": [
    "def get_top_k_answers(query, data, model, k=5):\n",
    "    query = preprocess_text(query)\n",
    "    query_vector = get_text_vector(query, model)\n",
    "    similarities = cosine_similarity([query_vector], list(data['answer_vector']))[0]\n",
    "    top_k_indices = np.argsort(similarities)[-k:][::-1]  # Вибираємо топ-K\n",
    "    return data.iloc[top_k_indices]['Answer'].tolist()"
   ],
   "metadata": {
    "collapsed": false,
    "ExecuteTime": {
     "end_time": "2024-10-31T20:19:39.397148Z",
     "start_time": "2024-10-31T20:19:39.392411Z"
    }
   },
   "id": "5aa01175ea9d9fae",
   "execution_count": 172
  },
  {
   "cell_type": "code",
   "outputs": [],
   "source": [
    "def evaluate_top_k_accuracy(data, model, k=5):\n",
    "    correct_count = 0\n",
    "    for index, row in data.iterrows():\n",
    "        question = row['processed_question']\n",
    "        correct_answer = row['Answer']\n",
    "        \n",
    "        top_k_answers = get_top_k_answers(question, data, model, k=k)\n",
    "        if correct_answer in top_k_answers:\n",
    "            correct_count += 1\n",
    "    \n",
    "    accuracy = correct_count / len(data)\n",
    "    return accuracy"
   ],
   "metadata": {
    "collapsed": false,
    "ExecuteTime": {
     "end_time": "2024-10-31T20:19:39.402110Z",
     "start_time": "2024-10-31T20:19:39.397148Z"
    }
   },
   "id": "a7976123b885df1b",
   "execution_count": 173
  },
  {
   "cell_type": "code",
   "outputs": [
    {
     "name": "stdout",
     "output_type": "stream",
     "text": [
      "Top-1 Accuracy: 0.215\n",
      "Top-3 Accuracy: 0.425\n",
      "Top-5 Accuracy: 0.53\n"
     ]
    }
   ],
   "source": [
    "print(\"Top-1 Accuracy:\", evaluate_top_k_accuracy(df2, ft_model, k=1))\n",
    "print(\"Top-3 Accuracy:\", evaluate_top_k_accuracy(df2, ft_model, k=3))\n",
    "print(\"Top-5 Accuracy:\", evaluate_top_k_accuracy(df2, ft_model, k=5))"
   ],
   "metadata": {
    "collapsed": false,
    "ExecuteTime": {
     "end_time": "2024-10-31T20:19:39.850131Z",
     "start_time": "2024-10-31T20:19:39.402110Z"
    }
   },
   "id": "a3f0d4dadc4bc8db",
   "execution_count": 174
  },
  {
   "cell_type": "code",
   "outputs": [],
   "source": [],
   "metadata": {
    "collapsed": false,
    "ExecuteTime": {
     "end_time": "2024-10-31T20:19:39.852481Z",
     "start_time": "2024-10-31T20:19:39.850131Z"
    }
   },
   "id": "8fc34b6ecccb5741",
   "execution_count": 174
  },
  {
   "cell_type": "code",
   "outputs": [],
   "source": [
    "def select_correct_question(data, model):\n",
    "    correct_question_index = random.choice(data.index)\n",
    "    correct_question = data.loc[correct_question_index, 'processed_question']\n",
    "    correct_answer = data.loc[correct_question_index, 'processed_answer']\n",
    "    \n",
    "    distractor_indices = random.sample(list(data.index.drop(correct_question_index)), 3)\n",
    "    distractors = data.loc[distractor_indices, 'processed_question'].tolist()\n",
    "    \n",
    "    options = [correct_question] + distractors\n",
    "    random.shuffle(options)\n",
    "    \n",
    "    answer_vector = get_text_vector(correct_answer, model)\n",
    "    \n",
    "    similarities = [cosine_similarity([answer_vector], [get_text_vector(q, model)])[0][0] for q in options]\n",
    "    \n",
    "    predicted_question = options[np.argmax(similarities)]\n",
    "    \n",
    "    return predicted_question == correct_question"
   ],
   "metadata": {
    "collapsed": false,
    "ExecuteTime": {
     "end_time": "2024-10-31T20:19:39.857233Z",
     "start_time": "2024-10-31T20:19:39.852481Z"
    }
   },
   "id": "22c3bdad67bbb675",
   "execution_count": 175
  },
  {
   "cell_type": "code",
   "outputs": [],
   "source": [
    "def evaluate_question_selection(data, model, n_trials=100):\n",
    "    results = [select_correct_question(data, model) for _ in range(n_trials)]\n",
    "    accuracy = sum(results) / n_trials\n",
    "    return accuracy"
   ],
   "metadata": {
    "collapsed": false,
    "ExecuteTime": {
     "end_time": "2024-10-31T20:19:39.863039Z",
     "start_time": "2024-10-31T20:19:39.857233Z"
    }
   },
   "id": "fc13fb5074b683e8",
   "execution_count": 176
  },
  {
   "cell_type": "code",
   "outputs": [],
   "source": [
    "def select_correct_answer(data, question, model):\n",
    "    question_vector = get_text_vector(question, model)\n",
    "    similarities = [cosine_similarity([question_vector], [get_text_vector(ans, model)])[0][0] for ans in data['processed_answer']]\n",
    "    best_match_index = np.argmax(similarities)\n",
    "    return data.iloc[best_match_index]['Answer']"
   ],
   "metadata": {
    "collapsed": false,
    "ExecuteTime": {
     "end_time": "2024-10-31T20:19:39.868990Z",
     "start_time": "2024-10-31T20:19:39.863039Z"
    }
   },
   "id": "1e3dd0d64ae1bdeb",
   "execution_count": 177
  },
  {
   "cell_type": "code",
   "outputs": [],
   "source": [
    "def evaluate_answer_selection(data, model):\n",
    "    correct_count = 0\n",
    "    for index, row in data.iterrows():\n",
    "        question = row['processed_question']\n",
    "        correct_answer = row['Answer']\n",
    "        predicted_answer = select_correct_answer(data, question, model)\n",
    "        if predicted_answer == correct_answer:\n",
    "            correct_count += 1\n",
    "    accuracy = correct_count / len(data)\n",
    "    return accuracy"
   ],
   "metadata": {
    "collapsed": false,
    "ExecuteTime": {
     "end_time": "2024-10-31T20:19:39.873567Z",
     "start_time": "2024-10-31T20:19:39.868990Z"
    }
   },
   "id": "a2d477271eb66d1c",
   "execution_count": 178
  },
  {
   "cell_type": "code",
   "outputs": [
    {
     "name": "stdout",
     "output_type": "stream",
     "text": [
      "Accuracy for selecting the correct question: 0.78\n",
      "Accuracy for selecting the correct answer: 0.215\n"
     ]
    }
   ],
   "source": [
    "question_selection_accuracy = evaluate_question_selection(df2, ft_model)\n",
    "answer_selection_accuracy = evaluate_answer_selection(df2, ft_model)\n",
    "\n",
    "print(\"Accuracy for selecting the correct question:\", question_selection_accuracy)\n",
    "print(\"Accuracy for selecting the correct answer:\", answer_selection_accuracy)"
   ],
   "metadata": {
    "collapsed": false,
    "ExecuteTime": {
     "end_time": "2024-10-31T20:19:52.220006Z",
     "start_time": "2024-10-31T20:19:39.873567Z"
    }
   },
   "id": "d1567ff6ca672027",
   "execution_count": 179
  },
  {
   "cell_type": "code",
   "outputs": [],
   "source": [],
   "metadata": {
    "collapsed": false,
    "ExecuteTime": {
     "end_time": "2024-10-31T20:19:52.222411Z",
     "start_time": "2024-10-31T20:19:52.220006Z"
    }
   },
   "id": "33d28fbe5a0c1335",
   "execution_count": 179
  },
  {
   "cell_type": "code",
   "outputs": [],
   "source": [
    "def gradio_qa_system(question, k):\n",
    "    top_k_answers = get_top_k_answers(question, df2, ft_model, k=k)\n",
    "    return \"\\n\\n\".join(top_k_answers)\n",
    "\n",
    "\n",
    "with gr.Blocks() as demo:\n",
    "    gr.Markdown(\"## Question Answering System Demo (Top-K)\")\n",
    "    \n",
    "    with gr.Tab(\"Ask a Question\"):\n",
    "        with gr.Row():\n",
    "            input_question = gr.Textbox(label=\"Enter your question here\")\n",
    "            input_k = gr.Slider(minimum=1, maximum=5, step=1, value=3, label=\"Top-K Answers\")\n",
    "            output_answers = gr.Textbox(label=\"Answers\")\n",
    "        \n",
    "        submit_button = gr.Button(\"Get Answers\")\n",
    "        submit_button.click(fn=gradio_qa_system, inputs=[input_question, input_k], outputs=output_answers)\n"
   ],
   "metadata": {
    "collapsed": false,
    "ExecuteTime": {
     "end_time": "2024-10-31T20:19:52.340909Z",
     "start_time": "2024-10-31T20:19:52.222411Z"
    }
   },
   "id": "9be299be0956aa72",
   "execution_count": 180
  },
  {
   "cell_type": "code",
   "outputs": [
    {
     "name": "stdout",
     "output_type": "stream",
     "text": [
      "* Running on local URL:  http://127.0.0.1:7864\n",
      "\n",
      "To create a public link, set `share=True` in `launch()`.\n"
     ]
    },
    {
     "data": {
      "text/plain": "<IPython.core.display.HTML object>",
      "text/html": "<div><iframe src=\"http://127.0.0.1:7864/\" width=\"100%\" height=\"500\" allow=\"autoplay; camera; microphone; clipboard-read; clipboard-write;\" frameborder=\"0\" allowfullscreen></iframe></div>"
     },
     "metadata": {},
     "output_type": "display_data"
    },
    {
     "data": {
      "text/plain": ""
     },
     "execution_count": 181,
     "metadata": {},
     "output_type": "execute_result"
    }
   ],
   "source": [
    "demo.launch()"
   ],
   "metadata": {
    "collapsed": false,
    "ExecuteTime": {
     "end_time": "2024-10-31T20:19:52.605685Z",
     "start_time": "2024-10-31T20:19:52.340909Z"
    }
   },
   "id": "2047d0ba503f32bb",
   "execution_count": 181
  },
  {
   "cell_type": "code",
   "outputs": [],
   "source": [],
   "metadata": {
    "collapsed": false,
    "ExecuteTime": {
     "end_time": "2024-10-31T20:19:52.608064Z",
     "start_time": "2024-10-31T20:19:52.605685Z"
    }
   },
   "id": "252c6281d9dc124d",
   "execution_count": 181
  }
 ],
 "metadata": {
  "kernelspec": {
   "display_name": "Python 3",
   "language": "python",
   "name": "python3"
  },
  "language_info": {
   "codemirror_mode": {
    "name": "ipython",
    "version": 2
   },
   "file_extension": ".py",
   "mimetype": "text/x-python",
   "name": "python",
   "nbconvert_exporter": "python",
   "pygments_lexer": "ipython2",
   "version": "2.7.6"
  }
 },
 "nbformat": 4,
 "nbformat_minor": 5
}
